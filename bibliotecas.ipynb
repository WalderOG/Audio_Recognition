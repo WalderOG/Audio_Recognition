{
 "cells": [
  {
   "metadata": {},
   "cell_type": "markdown",
   "source": [
    "Bibliotecas:\n",
    "Instalação das bibliotecas necessárias."
   ],
   "id": "982288c4f686edf5"
  },
  {
   "metadata": {
    "ExecuteTime": {
     "end_time": "2024-09-05T20:01:49.388967Z",
     "start_time": "2024-09-05T20:01:46.654930Z"
    }
   },
   "cell_type": "code",
   "source": "!pip install gtts",
   "id": "5ddaf22ece5ca150",
   "outputs": [
    {
     "name": "stdout",
     "output_type": "stream",
     "text": [
      "Requirement already satisfied: gtts in c:\\users\\walog\\downloads\\fiap\\plataformas-cognitivas-local\\venv\\lib\\site-packages (2.5.3)\n",
      "Requirement already satisfied: requests<3,>=2.27 in c:\\users\\walog\\downloads\\fiap\\plataformas-cognitivas-local\\venv\\lib\\site-packages (from gtts) (2.32.3)\n",
      "Requirement already satisfied: click<8.2,>=7.1 in c:\\users\\walog\\downloads\\fiap\\plataformas-cognitivas-local\\venv\\lib\\site-packages (from gtts) (8.1.7)\n",
      "Requirement already satisfied: colorama in c:\\users\\walog\\downloads\\fiap\\plataformas-cognitivas-local\\venv\\lib\\site-packages (from click<8.2,>=7.1->gtts) (0.4.6)\n",
      "Requirement already satisfied: charset-normalizer<4,>=2 in c:\\users\\walog\\downloads\\fiap\\plataformas-cognitivas-local\\venv\\lib\\site-packages (from requests<3,>=2.27->gtts) (3.3.2)\n",
      "Requirement already satisfied: idna<4,>=2.5 in c:\\users\\walog\\downloads\\fiap\\plataformas-cognitivas-local\\venv\\lib\\site-packages (from requests<3,>=2.27->gtts) (3.7)\n",
      "Requirement already satisfied: urllib3<3,>=1.21.1 in c:\\users\\walog\\downloads\\fiap\\plataformas-cognitivas-local\\venv\\lib\\site-packages (from requests<3,>=2.27->gtts) (2.2.2)\n",
      "Requirement already satisfied: certifi>=2017.4.17 in c:\\users\\walog\\downloads\\fiap\\plataformas-cognitivas-local\\venv\\lib\\site-packages (from requests<3,>=2.27->gtts) (2024.7.4)\n",
      "Requirement already satisfied: SpeechRecognition in c:\\users\\walog\\downloads\\fiap\\plataformas-cognitivas-local\\venv\\lib\\site-packages (3.10.4)\n",
      "Requirement already satisfied: requests>=2.26.0 in c:\\users\\walog\\downloads\\fiap\\plataformas-cognitivas-local\\venv\\lib\\site-packages (from SpeechRecognition) (2.32.3)\n",
      "Requirement already satisfied: typing-extensions in c:\\users\\walog\\downloads\\fiap\\plataformas-cognitivas-local\\venv\\lib\\site-packages (from SpeechRecognition) (4.12.2)\n",
      "Requirement already satisfied: charset-normalizer<4,>=2 in c:\\users\\walog\\downloads\\fiap\\plataformas-cognitivas-local\\venv\\lib\\site-packages (from requests>=2.26.0->SpeechRecognition) (3.3.2)\n",
      "Requirement already satisfied: idna<4,>=2.5 in c:\\users\\walog\\downloads\\fiap\\plataformas-cognitivas-local\\venv\\lib\\site-packages (from requests>=2.26.0->SpeechRecognition) (3.7)\n",
      "Requirement already satisfied: urllib3<3,>=1.21.1 in c:\\users\\walog\\downloads\\fiap\\plataformas-cognitivas-local\\venv\\lib\\site-packages (from requests>=2.26.0->SpeechRecognition) (2.2.2)\n",
      "Requirement already satisfied: certifi>=2017.4.17 in c:\\users\\walog\\downloads\\fiap\\plataformas-cognitivas-local\\venv\\lib\\site-packages (from requests>=2.26.0->SpeechRecognition) (2024.7.4)\n",
      "Requirement already satisfied: PyAudio in c:\\users\\walog\\downloads\\fiap\\plataformas-cognitivas-local\\venv\\lib\\site-packages (0.2.14)\n"
     ]
    }
   ],
   "execution_count": 8
  },
  {
   "metadata": {},
   "cell_type": "code",
   "outputs": [],
   "execution_count": null,
   "source": "!pip install SpeechRecognition",
   "id": "ea0401ab61ca2fa4"
  },
  {
   "metadata": {},
   "cell_type": "code",
   "outputs": [],
   "execution_count": null,
   "source": "!pip install PyAudio",
   "id": "aea2ee86ed5bfecc"
  },
  {
   "metadata": {
    "ExecuteTime": {
     "end_time": "2024-09-07T22:54:09.442231Z",
     "start_time": "2024-09-07T22:54:08.033472Z"
    }
   },
   "cell_type": "code",
   "source": "!pip install audioplayer",
   "id": "ba06232f397b4035",
   "outputs": [
    {
     "name": "stdout",
     "output_type": "stream",
     "text": [
      "Collecting audioplayer\n",
      "  Downloading audioplayer-0.6-py3-none-any.whl.metadata (5.8 kB)\n",
      "Downloading audioplayer-0.6-py3-none-any.whl (8.3 kB)\n",
      "Installing collected packages: audioplayer\n",
      "Successfully installed audioplayer-0.6\n"
     ]
    }
   ],
   "execution_count": 4
  },
  {
   "metadata": {},
   "cell_type": "code",
   "outputs": [],
   "execution_count": null,
   "source": "",
   "id": "41c72265d4f480cc"
  }
 ],
 "metadata": {
  "kernelspec": {
   "display_name": "Python 3",
   "language": "python",
   "name": "python3"
  },
  "language_info": {
   "codemirror_mode": {
    "name": "ipython",
    "version": 2
   },
   "file_extension": ".py",
   "mimetype": "text/x-python",
   "name": "python",
   "nbconvert_exporter": "python",
   "pygments_lexer": "ipython2",
   "version": "2.7.6"
  }
 },
 "nbformat": 4,
 "nbformat_minor": 5
}
