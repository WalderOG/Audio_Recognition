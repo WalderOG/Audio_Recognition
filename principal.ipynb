{
 "cells": [
  {
   "metadata": {},
   "cell_type": "markdown",
   "source": [
    "Avaliação da Disciplina de Audio Recognition \n",
    "Implementação frases pré-determinadas(Text To Speech) e responder um opção escolhida(Speech To Text) "
   ],
   "id": "920301d216137c93"
  },
  {
   "metadata": {
    "ExecuteTime": {
     "end_time": "2024-09-08T02:36:10.738262Z",
     "start_time": "2024-09-08T02:36:10.721813Z"
    }
   },
   "cell_type": "code",
   "source": [
    "# Função para reproduzir o áudio\n",
    "def tocar_audio(arquivo):\n",
    "    from audioplayer import AudioPlayer\n",
    "    AudioPlayer(f\"Audios/{arquivo}.mp3\").play(block=True)"
   ],
   "id": "e9d0014904c4e89",
   "outputs": [],
   "execution_count": 62
  },
  {
   "metadata": {
    "ExecuteTime": {
     "end_time": "2024-09-08T02:36:10.751802Z",
     "start_time": "2024-09-08T02:36:10.741260Z"
    }
   },
   "cell_type": "code",
   "source": [
    "# Função para reconhecer a fala\n",
    "import speech_recognition as sr\n",
    "def reconhecer_fala():\n",
    "    recognizer = sr.Recognizer()\n",
    "    with sr.Microphone() as source:\n",
    "        print(\"Diga algo...\")\n",
    "        audio = recognizer.listen(source)\n",
    "        try:\n",
    "            texto = recognizer.recognize_google(audio, language='pt-BR')\n",
    "            print(f\"Você disse: {texto}\")\n",
    "            return texto.lower()\n",
    "        except sr.UnknownValueError:\n",
    "            print(\"Não entendi o que você disse.\")\n",
    "            return None\n",
    "        except sr.RequestError:\n",
    "            print(\"Erro ao tentar se conectar ao serviço de reconhecimento.\")\n",
    "            return None\n"
   ],
   "id": "2ec8e1e431829a3f",
   "outputs": [],
   "execution_count": 63
  },
  {
   "metadata": {
    "ExecuteTime": {
     "end_time": "2024-09-08T02:37:36.533477Z",
     "start_time": "2024-09-08T02:36:10.753787Z"
    }
   },
   "cell_type": "code",
   "source": [
    "# Loop de atendimento\n",
    "while True:\n",
    "    # Tocar as opções\n",
    "    tocar_audio(\"saudacao\")\n",
    "    tocar_audio(\"saldo\")\n",
    "    tocar_audio(\"compra\")\n",
    "    tocar_audio(\"atendente\")\n",
    "    tocar_audio(\"sair\")\n",
    "    \n",
    "    # Capturar a escolha do usuário\n",
    "    escolha = reconhecer_fala()\n",
    "    \n",
    "    if escolha:\n",
    "        if \"saldo\" in escolha:\n",
    "            print(\"Você escolheu consultar o saldo.\")\n",
    "            tocar_audio(\"meusaldo\")\n",
    "        elif \"compra\" in escolha:\n",
    "            print(\"Você escolheu simular uma compra internacional.\")\n",
    "            tocar_audio(\"compra_internacional\")\n",
    "        elif \"atendente\" in escolha:\n",
    "            print(\"Você escolheu falar com um atendente.\")\n",
    "            tocar_audio(\"atendente_falando\")\n",
    "        elif \"sair\" in escolha:\n",
    "            print(\"Você escolheu sair do atendimento.\")\n",
    "            tocar_audio(\"finalizar\")\n",
    "            break\n",
    "        else:\n",
    "            tocar_audio(\"invalida\")\n",
    "    else:\n",
    "        tocar_audio(\"repita\")\n"
   ],
   "id": "2ae9dbbbab24469c",
   "outputs": [
    {
     "name": "stdout",
     "output_type": "stream",
     "text": [
      "Diga algo...\n",
      "Você disse: saldo\n",
      "Você escolheu consultar o saldo.\n",
      "Diga algo...\n",
      "Não entendi o que você disse.\n"
     ]
    },
    {
     "ename": "KeyboardInterrupt",
     "evalue": "",
     "output_type": "error",
     "traceback": [
      "\u001B[1;31m---------------------------------------------------------------------------\u001B[0m",
      "\u001B[1;31mKeyboardInterrupt\u001B[0m                         Traceback (most recent call last)",
      "Cell \u001B[1;32mIn[64], line 5\u001B[0m\n\u001B[0;32m      2\u001B[0m \u001B[38;5;28;01mwhile\u001B[39;00m \u001B[38;5;28;01mTrue\u001B[39;00m:\n\u001B[0;32m      3\u001B[0m     \u001B[38;5;66;03m# Tocar as opções\u001B[39;00m\n\u001B[0;32m      4\u001B[0m     tocar_audio(\u001B[38;5;124m\"\u001B[39m\u001B[38;5;124msaudacao\u001B[39m\u001B[38;5;124m\"\u001B[39m)\n\u001B[1;32m----> 5\u001B[0m     \u001B[43mtocar_audio\u001B[49m\u001B[43m(\u001B[49m\u001B[38;5;124;43m\"\u001B[39;49m\u001B[38;5;124;43msaldo\u001B[39;49m\u001B[38;5;124;43m\"\u001B[39;49m\u001B[43m)\u001B[49m\n\u001B[0;32m      6\u001B[0m     tocar_audio(\u001B[38;5;124m\"\u001B[39m\u001B[38;5;124mcompra\u001B[39m\u001B[38;5;124m\"\u001B[39m)\n\u001B[0;32m      7\u001B[0m     tocar_audio(\u001B[38;5;124m\"\u001B[39m\u001B[38;5;124matendente\u001B[39m\u001B[38;5;124m\"\u001B[39m)\n",
      "Cell \u001B[1;32mIn[62], line 4\u001B[0m, in \u001B[0;36mtocar_audio\u001B[1;34m(arquivo)\u001B[0m\n\u001B[0;32m      2\u001B[0m \u001B[38;5;28;01mdef\u001B[39;00m \u001B[38;5;21mtocar_audio\u001B[39m(arquivo):\n\u001B[0;32m      3\u001B[0m     \u001B[38;5;28;01mfrom\u001B[39;00m \u001B[38;5;21;01maudioplayer\u001B[39;00m \u001B[38;5;28;01mimport\u001B[39;00m AudioPlayer\n\u001B[1;32m----> 4\u001B[0m     \u001B[43mAudioPlayer\u001B[49m\u001B[43m(\u001B[49m\u001B[38;5;124;43mf\u001B[39;49m\u001B[38;5;124;43m\"\u001B[39;49m\u001B[38;5;124;43mAudios/\u001B[39;49m\u001B[38;5;132;43;01m{\u001B[39;49;00m\u001B[43marquivo\u001B[49m\u001B[38;5;132;43;01m}\u001B[39;49;00m\u001B[38;5;124;43m.mp3\u001B[39;49m\u001B[38;5;124;43m\"\u001B[39;49m\u001B[43m)\u001B[49m\u001B[38;5;241;43m.\u001B[39;49m\u001B[43mplay\u001B[49m\u001B[43m(\u001B[49m\u001B[43mblock\u001B[49m\u001B[38;5;241;43m=\u001B[39;49m\u001B[38;5;28;43;01mTrue\u001B[39;49;00m\u001B[43m)\u001B[49m\n",
      "File \u001B[1;32m~\\Downloads\\FIAP\\plataformas-cognitivas-local\\venv\\lib\\site-packages\\audioplayer\\abstractaudioplayer.py:114\u001B[0m, in \u001B[0;36mAbstractAudioPlayer.play\u001B[1;34m(self, loop, block)\u001B[0m\n\u001B[0;32m    111\u001B[0m     \u001B[38;5;28mself\u001B[39m\u001B[38;5;241m.\u001B[39m_player \u001B[38;5;241m=\u001B[39m \u001B[38;5;28mself\u001B[39m\u001B[38;5;241m.\u001B[39mload_player()\n\u001B[0;32m    113\u001B[0m \u001B[38;5;28mself\u001B[39m\u001B[38;5;241m.\u001B[39m_do_setvolume(\u001B[38;5;28mself\u001B[39m\u001B[38;5;241m.\u001B[39m_volume)\n\u001B[1;32m--> 114\u001B[0m \u001B[38;5;28;43mself\u001B[39;49m\u001B[38;5;241;43m.\u001B[39;49m\u001B[43m_doplay\u001B[49m\u001B[43m(\u001B[49m\u001B[43mloop\u001B[49m\u001B[43m,\u001B[49m\u001B[43m \u001B[49m\u001B[43mblock\u001B[49m\u001B[43m)\u001B[49m\n",
      "File \u001B[1;32m~\\Downloads\\FIAP\\plataformas-cognitivas-local\\venv\\lib\\site-packages\\audioplayer\\audioplayer_windows.py:32\u001B[0m, in \u001B[0;36mAudioPlayerWindows._doplay\u001B[1;34m(self, loop, block)\u001B[0m\n\u001B[0;32m     30\u001B[0m sloop \u001B[38;5;241m=\u001B[39m \u001B[38;5;124m'\u001B[39m\u001B[38;5;124mrepeat\u001B[39m\u001B[38;5;124m'\u001B[39m \u001B[38;5;28;01mif\u001B[39;00m loop \u001B[38;5;28;01melse\u001B[39;00m \u001B[38;5;124m'\u001B[39m\u001B[38;5;124m'\u001B[39m\n\u001B[0;32m     31\u001B[0m swait \u001B[38;5;241m=\u001B[39m \u001B[38;5;124m'\u001B[39m\u001B[38;5;124mwait\u001B[39m\u001B[38;5;124m'\u001B[39m \u001B[38;5;28;01mif\u001B[39;00m block \u001B[38;5;28;01melse\u001B[39;00m \u001B[38;5;124m'\u001B[39m\u001B[38;5;124m'\u001B[39m\n\u001B[1;32m---> 32\u001B[0m \u001B[38;5;28;43mself\u001B[39;49m\u001B[38;5;241;43m.\u001B[39;49m\u001B[43m_mciSendString\u001B[49m\u001B[43m(\u001B[49m\u001B[38;5;124;43m'\u001B[39;49m\u001B[38;5;124;43mplay \u001B[39;49m\u001B[38;5;132;43;01m{}\u001B[39;49;00m\u001B[38;5;124;43m from 0 \u001B[39;49m\u001B[38;5;132;43;01m{}\u001B[39;49;00m\u001B[38;5;124;43m \u001B[39;49m\u001B[38;5;132;43;01m{}\u001B[39;49;00m\u001B[38;5;124;43m'\u001B[39;49m\u001B[38;5;241;43m.\u001B[39;49m\u001B[43mformat\u001B[49m\u001B[43m(\u001B[49m\n\u001B[0;32m     33\u001B[0m \u001B[43m    \u001B[49m\u001B[38;5;28;43mself\u001B[39;49m\u001B[38;5;241;43m.\u001B[39;49m\u001B[43m_alias\u001B[49m\u001B[43m,\u001B[49m\u001B[43m \u001B[49m\u001B[43msloop\u001B[49m\u001B[43m,\u001B[49m\u001B[43m \u001B[49m\u001B[43mswait\u001B[49m\u001B[43m)\u001B[49m\u001B[43m)\u001B[49m\n",
      "File \u001B[1;32m~\\Downloads\\FIAP\\plataformas-cognitivas-local\\venv\\lib\\site-packages\\audioplayer\\audioplayer_windows.py:11\u001B[0m, in \u001B[0;36mAudioPlayerWindows._mciSendString\u001B[1;34m(self, command)\u001B[0m\n\u001B[0;32m     10\u001B[0m \u001B[38;5;28;01mdef\u001B[39;00m \u001B[38;5;21m_mciSendString\u001B[39m(\u001B[38;5;28mself\u001B[39m, command):\n\u001B[1;32m---> 11\u001B[0m     \u001B[38;5;28;01mreturn\u001B[39;00m \u001B[43mwindll\u001B[49m\u001B[38;5;241;43m.\u001B[39;49m\u001B[43mwinmm\u001B[49m\u001B[38;5;241;43m.\u001B[39;49m\u001B[43mmciSendStringW\u001B[49m\u001B[43m(\u001B[49m\u001B[43mcommand\u001B[49m\u001B[43m,\u001B[49m\u001B[43m \u001B[49m\u001B[38;5;241;43m0\u001B[39;49m\u001B[43m,\u001B[49m\u001B[43m \u001B[49m\u001B[38;5;241;43m0\u001B[39;49m\u001B[43m,\u001B[49m\u001B[43m \u001B[49m\u001B[38;5;241;43m0\u001B[39;49m\u001B[43m)\u001B[49m\n",
      "\u001B[1;31mKeyboardInterrupt\u001B[0m: "
     ]
    }
   ],
   "execution_count": 64
  },
  {
   "metadata": {},
   "cell_type": "code",
   "source": "",
   "id": "3bf407c3abcf2f81",
   "outputs": [],
   "execution_count": null
  }
 ],
 "metadata": {
  "kernelspec": {
   "display_name": "Python 3",
   "language": "python",
   "name": "python3"
  },
  "language_info": {
   "codemirror_mode": {
    "name": "ipython",
    "version": 2
   },
   "file_extension": ".py",
   "mimetype": "text/x-python",
   "name": "python",
   "nbconvert_exporter": "python",
   "pygments_lexer": "ipython2",
   "version": "2.7.6"
  }
 },
 "nbformat": 4,
 "nbformat_minor": 5
}
