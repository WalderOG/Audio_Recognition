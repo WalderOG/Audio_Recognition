{
 "cells": [
  {
   "metadata": {},
   "cell_type": "markdown",
   "source": "Frases para o atendimentos:\n",
   "id": "aa90915714690517"
  },
  {
   "metadata": {
    "ExecuteTime": {
     "end_time": "2024-09-08T02:36:02.106336Z",
     "start_time": "2024-09-08T02:36:02.086305Z"
    }
   },
   "cell_type": "code",
   "source": "from gtts import gTTS",
   "id": "ecca9e408fdae019",
   "outputs": [],
   "execution_count": 7
  },
  {
   "cell_type": "code",
   "id": "initial_id",
   "metadata": {
    "collapsed": true,
    "ExecuteTime": {
     "end_time": "2024-09-08T02:36:02.122411Z",
     "start_time": "2024-09-08T02:36:02.109343Z"
    }
   },
   "source": [
    "# Frases para menu\n",
    "frases_menu = {\n",
    "    \"saudacao\": \"Bem-vindo à QuantumFinance. Escolha uma das opções a seguir.\",\n",
    "    \"saldo\": \"Consultar Saldo da sua conta, diga 'Saldo'.\",\n",
    "    \"compra\": \"Simular Compra internacional, diga 'Compra'.\",\n",
    "    \"atendente\": \"Falar com um atendente, diga 'Atendente'.\",\n",
    "    \"sair\": \"Sair do atendimento, diga 'Sair'.\",\n",
    "    \"repita\": \"Desculpe, não entendi. Por favor, repita.\",\n",
    "    \"invalida\": \"Opção inválida, por favor tente novamente.\"\n",
    "}"
   ],
   "outputs": [],
   "execution_count": 8
  },
  {
   "metadata": {
    "ExecuteTime": {
     "end_time": "2024-09-08T02:36:02.138460Z",
     "start_time": "2024-09-08T02:36:02.124411Z"
    }
   },
   "cell_type": "code",
   "source": [
    "# Frases para demais\n",
    "frases_demais = {\n",
    "    \"meusaldo\": \"Seu Saldo atual é R$1.034.3,39\",\n",
    "    \"compra_internacional\": \"Olá! Esta é uma consulta sobre compras internacionais. As compras internacionais podem incluir detalhes como prazos de entrega, taxas de importação, e processos de liberação alfandegária.\",\n",
    "    \"finalizar\": \"Olá! Vou finalizar esta solicitação. Se precisar de mais alguma coisa, estarei por aqui!\",\n",
    "    \"atendente_falando\": \"Olá! Bem-vindo(a)! Como posso ajudar você hoje?\"\n",
    "}"
   ],
   "id": "b1e24ac889a91e74",
   "outputs": [],
   "execution_count": 9
  },
  {
   "metadata": {},
   "cell_type": "markdown",
   "source": "Gerar os arquivos de áudio com TTS",
   "id": "f1c09ea4f24123fc"
  },
  {
   "metadata": {
    "ExecuteTime": {
     "end_time": "2024-09-08T02:36:04.973589Z",
     "start_time": "2024-09-08T02:36:02.140460Z"
    }
   },
   "cell_type": "code",
   "source": [
    "for chave, frase in frases_menu.items():\n",
    "    tts = gTTS(frase, lang='pt')\n",
    "    tts.save(f\"Audios/{chave}.mp3\")"
   ],
   "id": "79df6927b164275b",
   "outputs": [],
   "execution_count": 10
  },
  {
   "metadata": {
    "ExecuteTime": {
     "end_time": "2024-09-08T02:36:07.892969Z",
     "start_time": "2024-09-08T02:36:04.974443Z"
    }
   },
   "cell_type": "code",
   "source": [
    "for chave, frase in frases_demais.items():\n",
    "    tts = gTTS(frase, lang='pt')\n",
    "    tts.save(f\"Audios/{chave}.mp3\")"
   ],
   "id": "dd1b413fff45b738",
   "outputs": [],
   "execution_count": 11
  }
 ],
 "metadata": {
  "kernelspec": {
   "display_name": "Python 3",
   "language": "python",
   "name": "python3"
  },
  "language_info": {
   "codemirror_mode": {
    "name": "ipython",
    "version": 2
   },
   "file_extension": ".py",
   "mimetype": "text/x-python",
   "name": "python",
   "nbconvert_exporter": "python",
   "pygments_lexer": "ipython2",
   "version": "2.7.6"
  }
 },
 "nbformat": 4,
 "nbformat_minor": 5
}
